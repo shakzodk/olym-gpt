{
 "cells": [
  {
   "cell_type": "code",
   "execution_count": null,
   "id": "f15d22c6",
   "metadata": {},
   "outputs": [],
   "source": [
    "import requests\n",
    "from bs4 import BeautifulSoup\n",
    "import pandas as pd\n",
    "import time"
   ]
  },
  {
   "cell_type": "code",
   "execution_count": null,
   "id": "8755b47c",
   "metadata": {},
   "outputs": [],
   "source": [
    "headers = {\n",
    "    'User-Agent': 'Mozilla/5.0 (Windows NT 10.0; Win64; x64) AppleWebKit/537.36 (KHTML, like Gecko) Chrome/58.0.3029.110 Safari/537.3'}\n",
    "response = requests.get(base_url, headers=headers)\n",
    "\n",
    "# response = requests.get(base_url)\n",
    "# response.raise_for_status()\n"
   ]
  },
  {
   "cell_type": "code",
   "execution_count": null,
   "id": "b9f1c565",
   "metadata": {},
   "outputs": [],
   "source": [
    "\n",
    "soup = BeautifulSoup(response.content, 'html.parser')\n",
    "\n",
    "# Use BeautifulSoup's methods to find and extract the data you need from the current page\n",
    "# For example:\n",
    "results = soup.find('section', class_='TextBlockstyles__Wrapper-sc-856wyu-0 hrHKsI indexstyles__TextBlock-sc-epfkwu-3 kZMMeL')\n",
    "for result in results:\n",
    "    data.append(result.text)\n"
   ]
  },
  {
   "cell_type": "code",
   "execution_count": null,
   "id": "de99053d",
   "metadata": {},
   "outputs": [],
   "source": [
    "data"
   ]
  },
  {
   "cell_type": "code",
   "execution_count": null,
   "id": "46907db6",
   "metadata": {},
   "outputs": [],
   "source": [
    "df = pd.read_csv('C:/Users/manik/Downloads/medals.csv')"
   ]
  },
  {
   "cell_type": "code",
   "execution_count": null,
   "id": "65efa92b",
   "metadata": {},
   "outputs": [],
   "source": [
    "df"
   ]
  },
  {
   "cell_type": "code",
   "execution_count": null,
   "id": "e3e7e9d2",
   "metadata": {},
   "outputs": [],
   "source": [
    "df.dropna(subset=['athlete_url'], inplace=True)"
   ]
  },
  {
   "cell_type": "code",
   "execution_count": null,
   "id": "8863c4d5",
   "metadata": {},
   "outputs": [],
   "source": [
    "df"
   ]
  },
  {
   "cell_type": "code",
   "execution_count": null,
   "id": "31ea2fd5",
   "metadata": {},
   "outputs": [],
   "source": [
    "def scrape_website_with_delay(url):\n",
    "        try:\n",
    "            data = []\n",
    "            time.sleep(1)\n",
    "            \n",
    "            headers = {\n",
    "                'User-Agent': 'Mozilla/5.0 (Windows NT 10.0; Win64; x64) AppleWebKit/537.36 (KHTML, like Gecko) Chrome/58.0.3029.110 Safari/537.3'}\n",
    "            response = requests.get(url, headers=headers)\n",
    "            response.raise_for_status()\n",
    "            if response.status_code == 200:\n",
    "                \n",
    "                soup = BeautifulSoup(response.content, 'html.parser')\n",
    "                results = soup.find('section', class_='TextBlockstyles__Wrapper-sc-856wyu-0 hrHKsI indexstyles__TextBlock-sc-epfkwu-3 kZMMeL')\n",
    "                if len(results)==0:\n",
    "                    x = \"Not available\"\n",
    "                    return x\n",
    "                    \n",
    "                for result in results:\n",
    "                    data.append(result.text)\n",
    "            \n",
    "            else:\n",
    "                print(f\"Failed to fetch the page: {url}\")\n",
    "        except TypeError as e:\n",
    "            print(f\"An error occurred: {e}\")\n",
    "        except requests.exceptions.RequestException as e:\n",
    "            print(f\"Error fetching the page {url}: {e}\")\n",
    "        return data\n"
   ]
  },
  {
   "cell_type": "code",
   "execution_count": null,
   "id": "5522560e",
   "metadata": {},
   "outputs": [],
   "source": [
    "athletes_df = df[['athlete_full_name','athlete_url']]"
   ]
  },
  {
   "cell_type": "code",
   "execution_count": null,
   "id": "73b62e4d",
   "metadata": {
    "scrolled": true
   },
   "outputs": [],
   "source": [
    "for index, row in athletes_df.iterrows():\n",
    "    # Access individual elements of the row using column names\n",
    "    name = row['athlete_full_name']\n",
    "    url = row['athlete_url']\n",
    "    scraped_data = scrape_website_with_delay(url)\n",
    "    info = f\"{name} about is following :{scraped_data}\"\n",
    "    \n",
    "\n",
    "    with open('C:/Users/manik/Downloads/athlete.txt', 'a+') as file:\n",
    "        try:\n",
    "            file.write(info)\n",
    "        except UnicodeEncodeError as e:\n",
    "            print(\"UnicodeEncodeError:\", e)\n",
    "    "
   ]
  },
  {
   "cell_type": "code",
   "execution_count": null,
   "id": "c6ba08bc",
   "metadata": {},
   "outputs": [],
   "source": []
  },
  {
   "cell_type": "code",
   "execution_count": null,
   "id": "e6e21bf2",
   "metadata": {},
   "outputs": [],
   "source": []
  }
 ],
 "metadata": {
  "kernelspec": {
   "display_name": "Python 3 (ipykernel)",
   "language": "python",
   "name": "python3"
  },
  "language_info": {
   "codemirror_mode": {
    "name": "ipython",
    "version": 3
   },
   "file_extension": ".py",
   "mimetype": "text/x-python",
   "name": "python",
   "nbconvert_exporter": "python",
   "pygments_lexer": "ipython3",
   "version": "3.9.13"
  }
 },
 "nbformat": 4,
 "nbformat_minor": 5
}
