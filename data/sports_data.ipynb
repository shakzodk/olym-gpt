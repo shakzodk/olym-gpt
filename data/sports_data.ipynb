{
 "cells": [
  {
   "cell_type": "code",
   "execution_count": null,
   "id": "b958dc1a",
   "metadata": {},
   "outputs": [],
   "source": [
    "import requests\n",
    "from bs4 import BeautifulSoup\n",
    "import pandas as pd\n",
    "import time"
   ]
  },
  {
   "cell_type": "code",
   "execution_count": null,
   "id": "d1b4c3bd",
   "metadata": {},
   "outputs": [],
   "source": [
    "headers = {\n",
    "    'User-Agent': 'Mozilla/5.0 (Windows NT 10.0; Win64; x64) AppleWebKit/537.36 (KHTML, like Gecko) Chrome/58.0.3029.110 Safari/537.3'}\n",
    "response = requests.get(url, headers=headers)"
   ]
  },
  {
   "cell_type": "code",
   "execution_count": null,
   "id": "bf990539",
   "metadata": {},
   "outputs": [],
   "source": [
    "soup = BeautifulSoup(response.content, 'html.parser')"
   ]
  },
  {
   "cell_type": "code",
   "execution_count": null,
   "id": "95ed8b6c",
   "metadata": {},
   "outputs": [],
   "source": [
    "df = pd.read_csv('C:/Users/manik/Downloads/medals.csv')"
   ]
  },
  {
   "cell_type": "code",
   "execution_count": null,
   "id": "06c4187b",
   "metadata": {},
   "outputs": [],
   "source": [
    "sports_list = df['discipline_title'].tolist()"
   ]
  },
  {
   "cell_type": "code",
   "execution_count": null,
   "id": "fc968d40",
   "metadata": {},
   "outputs": [],
   "source": [
    "sports_list = list(set(sports_list))"
   ]
  },
  {
   "cell_type": "code",
   "execution_count": null,
   "id": "a3cf10f3",
   "metadata": {},
   "outputs": [],
   "source": [
    "sports_list"
   ]
  },
  {
   "cell_type": "code",
   "execution_count": null,
   "id": "7ff0d211",
   "metadata": {},
   "outputs": [],
   "source": [
    "def lower_with_hyphen(original_string):\n",
    "    lowercase_string = original_string.lower()\n",
    "    result_string = lowercase_string.replace(\" \", \"-\")\n",
    "\n",
    "    return result_string"
   ]
  },
  {
   "cell_type": "code",
   "execution_count": null,
   "id": "420651cb",
   "metadata": {},
   "outputs": [],
   "source": [
    "sports_tag = []\n",
    "for i in sports_list:\n",
    "    sports = lower_with_hyphen(i)\n",
    "    sports_tag.append(sports)"
   ]
  },
  {
   "cell_type": "code",
   "execution_count": null,
   "id": "6c23655f",
   "metadata": {},
   "outputs": [],
   "source": [
    "sports_tag"
   ]
  },
  {
   "cell_type": "code",
   "execution_count": null,
   "id": "c1acf0d4",
   "metadata": {},
   "outputs": [],
   "source": [
    "base_url = \"https://olympics.com/en/sports/\""
   ]
  },
  {
   "cell_type": "code",
   "execution_count": null,
   "id": "0b915eb0",
   "metadata": {},
   "outputs": [],
   "source": [
    "def scrape_website_with_delay(url):\n",
    "        try:\n",
    "            data = []\n",
    "            time.sleep(1)\n",
    "            \n",
    "            headers = {\n",
    "                'User-Agent': 'Mozilla/5.0 (Windows NT 10.0; Win64; x64) AppleWebKit/537.36 (KHTML, like Gecko) Chrome/58.0.3029.110 Safari/537.3'}\n",
    "            response = requests.get(url, headers=headers)\n",
    "            response.raise_for_status()\n",
    "            if response.status_code == 200:\n",
    "                \n",
    "                soup = BeautifulSoup(response.content, 'html.parser')\n",
    "                results = soup.find('div', class_='b2p-col__6 history-of__body')    \n",
    "                for result in results:\n",
    "                    data.append(result.text)\n",
    "            \n",
    "            else:\n",
    "                print(f\"Failed to fetch the page: {url}\")\n",
    "        except TypeError as e:\n",
    "            print(f\"An error occurred: {e}\")\n",
    "        except requests.exceptions.RequestException as e:\n",
    "            print(f\"Error fetching the page {url}: {e}\")\n",
    "        return data"
   ]
  },
  {
   "cell_type": "code",
   "execution_count": null,
   "id": "e347022c",
   "metadata": {},
   "outputs": [],
   "source": [
    "for tag in sports_tag:\n",
    "    url = base_url+tag\n",
    "    scraped_data = scrape_website_with_delay(url)\n",
    "    info = f\"{tag} about is following :{scraped_data}\"\n",
    "    \n",
    "\n",
    "    with open('C:/Users/manik/Downloads/sports.txt', 'a+') as file:\n",
    "        try:\n",
    "            file.write(info)\n",
    "        except UnicodeEncodeError as e:\n",
    "            print(\"UnicodeEncodeError:\", e)\n",
    "    "
   ]
  },
  {
   "cell_type": "code",
   "execution_count": null,
   "id": "18afbcfa",
   "metadata": {},
   "outputs": [],
   "source": [
    "other_tags = ['https://olympics.com/en/sports/equestrian/','https://olympics.com/en/sports/canoe-kayak-slalom/','https://olympics.com/en/sports/baseball-softball/','https://olympics.com/en/sports/rhythmic-gymnastics/','https://olympics.com/en/sports/trampoline-gymnastics/','https://olympics.com/en/sports/cycling-bmx-freestyle/','https://olympics.com/en/sports/short-track-speed-skating/','https://olympics.com/en/sports/rugby-sevens/','https://olympics.com/en/sports/artistic-gymnastics/']"
   ]
  },
  {
   "cell_type": "code",
   "execution_count": null,
   "id": "54cf043a",
   "metadata": {},
   "outputs": [],
   "source": [
    "for url in other_tags:\n",
    "    scraped_data = scrape_website_with_delay(url)\n",
    "    info = f'data is given as:{scraped_data}'\n",
    "    \n",
    "\n",
    "    with open('C:/Users/manik/Downloads/sports.txt', 'a+') as file:\n",
    "        try:\n",
    "            file.write(info)\n",
    "        except UnicodeEncodeError as e:\n",
    "            print(\"UnicodeEncodeError:\", e)\n",
    "    "
   ]
  },
  {
   "cell_type": "code",
   "execution_count": null,
   "id": "148f36bb",
   "metadata": {},
   "outputs": [],
   "source": []
  }
 ],
 "metadata": {
  "kernelspec": {
   "display_name": "Python 3 (ipykernel)",
   "language": "python",
   "name": "python3"
  },
  "language_info": {
   "codemirror_mode": {
    "name": "ipython",
    "version": 3
   },
   "file_extension": ".py",
   "mimetype": "text/x-python",
   "name": "python",
   "nbconvert_exporter": "python",
   "pygments_lexer": "ipython3",
   "version": "3.9.13"
  }
 },
 "nbformat": 4,
 "nbformat_minor": 5
}
