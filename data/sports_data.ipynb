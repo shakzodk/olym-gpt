{
 "cells": [
  {
   "cell_type": "code",
   "execution_count": 26,
   "id": "779d1da4",
   "metadata": {},
   "outputs": [],
   "source": [
    "import requests\n",
    "from bs4 import BeautifulSoup\n",
    "import pandas as pd\n",
    "import time"
   ]
  },
  {
   "cell_type": "code",
   "execution_count": 27,
   "id": "63564ea2",
   "metadata": {},
   "outputs": [],
   "source": [
    "headers = {\n",
    "    'User-Agent': 'Mozilla/5.0 (Windows NT 10.0; Win64; x64) AppleWebKit/537.36 (KHTML, like Gecko) Chrome/58.0.3029.110 Safari/537.3'}\n",
    "response = requests.get(url, headers=headers)"
   ]
  },
  {
   "cell_type": "code",
   "execution_count": 28,
   "id": "d2d7783b",
   "metadata": {},
   "outputs": [],
   "source": [
    "soup = BeautifulSoup(response.content, 'html.parser')"
   ]
  },
  {
   "cell_type": "code",
   "execution_count": 29,
   "id": "08975719",
   "metadata": {},
   "outputs": [],
   "source": [
    "df = pd.read_csv('C:/Users/manik/Downloads/medals.csv')"
   ]
  },
  {
   "cell_type": "code",
   "execution_count": 31,
   "id": "cc545cc4",
   "metadata": {},
   "outputs": [],
   "source": [
    "sports_list = df['discipline_title'].tolist()"
   ]
  },
  {
   "cell_type": "code",
   "execution_count": 33,
   "id": "d62faad4",
   "metadata": {},
   "outputs": [],
   "source": [
    "sports_list = list(set(sports_list))"
   ]
  },
  {
   "cell_type": "code",
   "execution_count": 34,
   "id": "24f0d645",
   "metadata": {},
   "outputs": [
    {
     "data": {
      "text/plain": [
       "['Cricket',\n",
       " 'Football',\n",
       " 'Tennis',\n",
       " 'Cycling Road',\n",
       " 'Fencing',\n",
       " 'Equestrian Dressage',\n",
       " 'Handball',\n",
       " 'Rhythmic Gymnastics',\n",
       " 'Figure skating',\n",
       " 'Snowboard',\n",
       " 'Tug of War',\n",
       " 'Baseball/Softball',\n",
       " 'Luge',\n",
       " 'Equestrian  Vaulting',\n",
       " 'Curling',\n",
       " 'Water Motorsports',\n",
       " 'Alpine Skiing',\n",
       " 'Equestrian Jumping',\n",
       " 'Taekwondo',\n",
       " 'Gymnastics Rhythmic',\n",
       " 'Wrestling',\n",
       " 'Cycling Mountain Bike',\n",
       " 'Sport Climbing',\n",
       " 'Biathlon',\n",
       " 'Golf',\n",
       " 'Cycling BMX Racing',\n",
       " 'Canoe Marathon',\n",
       " 'Volleyball',\n",
       " 'Trampoline',\n",
       " 'Basque Pelota',\n",
       " 'Shooting',\n",
       " 'Cycling BMX',\n",
       " 'Cross Country Skiing',\n",
       " 'Synchronized Swimming',\n",
       " 'Archery',\n",
       " 'Beach Volleyball',\n",
       " 'Jeu de Paume',\n",
       " 'Ski Jumping',\n",
       " 'Rackets',\n",
       " 'Karate',\n",
       " 'Cycling Track',\n",
       " 'Croquet',\n",
       " 'Triathlon',\n",
       " 'Modern Pentathlon',\n",
       " '3x3 Basketball',\n",
       " 'Equestrian Eventing',\n",
       " 'Sailing',\n",
       " 'Canoe Slalom',\n",
       " 'Marathon Swimming',\n",
       " 'Roque',\n",
       " 'Artistic Gymnastics',\n",
       " 'Freestyle Skiing',\n",
       " 'Speed skating',\n",
       " 'Athletics',\n",
       " 'Boxing',\n",
       " 'Water Polo',\n",
       " 'Artistic Swimming',\n",
       " 'Trampoline Gymnastics',\n",
       " 'Skeleton',\n",
       " 'Short Track Speed Skating',\n",
       " 'Equestrian',\n",
       " 'Weightlifting',\n",
       " 'Swimming',\n",
       " 'Bobsleigh',\n",
       " 'Military Patrol',\n",
       " 'Short Track',\n",
       " 'Polo',\n",
       " 'Canoe Sprint',\n",
       " 'Badminton',\n",
       " 'Rugby',\n",
       " 'Rugby Sevens',\n",
       " 'Table Tennis',\n",
       " 'Diving',\n",
       " 'Cycling BMX Freestyle',\n",
       " 'Basketball',\n",
       " 'Softball',\n",
       " 'Nordic Combined',\n",
       " 'Hockey',\n",
       " 'Gymnastics Artistic',\n",
       " 'Ice Hockey',\n",
       " 'Skateboarding',\n",
       " 'Surfing',\n",
       " 'Rowing',\n",
       " 'Lacrosse',\n",
       " 'Baseball',\n",
       " 'Judo']"
      ]
     },
     "execution_count": 34,
     "metadata": {},
     "output_type": "execute_result"
    }
   ],
   "source": [
    "sports_list"
   ]
  },
  {
   "cell_type": "code",
   "execution_count": 35,
   "id": "185f80e3",
   "metadata": {},
   "outputs": [],
   "source": [
    "def lower_with_hyphen(original_string):\n",
    "    lowercase_string = original_string.lower()\n",
    "    result_string = lowercase_string.replace(\" \", \"-\")\n",
    "\n",
    "    return result_string"
   ]
  },
  {
   "cell_type": "code",
   "execution_count": 37,
   "id": "8fa528bb",
   "metadata": {},
   "outputs": [],
   "source": [
    "sports_tag = []\n",
    "for i in sports_list:\n",
    "    sports = lower_with_hyphen(i)\n",
    "    sports_tag.append(sports)"
   ]
  },
  {
   "cell_type": "code",
   "execution_count": 38,
   "id": "811aba6e",
   "metadata": {},
   "outputs": [
    {
     "data": {
      "text/plain": [
       "['cricket',\n",
       " 'football',\n",
       " 'tennis',\n",
       " 'cycling-road',\n",
       " 'fencing',\n",
       " 'equestrian-dressage',\n",
       " 'handball',\n",
       " 'rhythmic-gymnastics',\n",
       " 'figure-skating',\n",
       " 'snowboard',\n",
       " 'tug-of-war',\n",
       " 'baseball/softball',\n",
       " 'luge',\n",
       " 'equestrian--vaulting',\n",
       " 'curling',\n",
       " 'water-motorsports',\n",
       " 'alpine-skiing',\n",
       " 'equestrian-jumping',\n",
       " 'taekwondo',\n",
       " 'gymnastics-rhythmic',\n",
       " 'wrestling',\n",
       " 'cycling-mountain-bike',\n",
       " 'sport-climbing',\n",
       " 'biathlon',\n",
       " 'golf',\n",
       " 'cycling-bmx-racing',\n",
       " 'canoe-marathon',\n",
       " 'volleyball',\n",
       " 'trampoline',\n",
       " 'basque-pelota',\n",
       " 'shooting',\n",
       " 'cycling-bmx',\n",
       " 'cross-country-skiing',\n",
       " 'synchronized-swimming',\n",
       " 'archery',\n",
       " 'beach-volleyball',\n",
       " 'jeu-de-paume',\n",
       " 'ski-jumping',\n",
       " 'rackets',\n",
       " 'karate',\n",
       " 'cycling-track',\n",
       " 'croquet',\n",
       " 'triathlon',\n",
       " 'modern-pentathlon',\n",
       " '3x3-basketball',\n",
       " 'equestrian-eventing',\n",
       " 'sailing',\n",
       " 'canoe-slalom',\n",
       " 'marathon-swimming',\n",
       " 'roque',\n",
       " 'artistic-gymnastics',\n",
       " 'freestyle-skiing',\n",
       " 'speed-skating',\n",
       " 'athletics',\n",
       " 'boxing',\n",
       " 'water-polo',\n",
       " 'artistic-swimming',\n",
       " 'trampoline-gymnastics',\n",
       " 'skeleton',\n",
       " 'short-track-speed-skating',\n",
       " 'equestrian',\n",
       " 'weightlifting',\n",
       " 'swimming',\n",
       " 'bobsleigh',\n",
       " 'military-patrol',\n",
       " 'short-track',\n",
       " 'polo',\n",
       " 'canoe-sprint',\n",
       " 'badminton',\n",
       " 'rugby',\n",
       " 'rugby-sevens',\n",
       " 'table-tennis',\n",
       " 'diving',\n",
       " 'cycling-bmx-freestyle',\n",
       " 'basketball',\n",
       " 'softball',\n",
       " 'nordic-combined',\n",
       " 'hockey',\n",
       " 'gymnastics-artistic',\n",
       " 'ice-hockey',\n",
       " 'skateboarding',\n",
       " 'surfing',\n",
       " 'rowing',\n",
       " 'lacrosse',\n",
       " 'baseball',\n",
       " 'judo']"
      ]
     },
     "execution_count": 38,
     "metadata": {},
     "output_type": "execute_result"
    }
   ],
   "source": [
    "sports_tag"
   ]
  },
  {
   "cell_type": "code",
   "execution_count": 41,
   "id": "b3934279",
   "metadata": {},
   "outputs": [],
   "source": [
    "base_url = \"https://olympics.com/en/sports/\""
   ]
  },
  {
   "cell_type": "code",
   "execution_count": 43,
   "id": "9227b93f",
   "metadata": {},
   "outputs": [],
   "source": [
    "def scrape_website_with_delay(url):\n",
    "        try:\n",
    "            data = []\n",
    "            time.sleep(1)\n",
    "            \n",
    "            headers = {\n",
    "                'User-Agent': 'Mozilla/5.0 (Windows NT 10.0; Win64; x64) AppleWebKit/537.36 (KHTML, like Gecko) Chrome/58.0.3029.110 Safari/537.3'}\n",
    "            response = requests.get(url, headers=headers)\n",
    "            response.raise_for_status()\n",
    "            if response.status_code == 200:\n",
    "                \n",
    "                soup = BeautifulSoup(response.content, 'html.parser')\n",
    "                results = soup.find('div', class_='b2p-col__6 history-of__body')    \n",
    "                for result in results:\n",
    "                    data.append(result.text)\n",
    "            \n",
    "            else:\n",
    "                print(f\"Failed to fetch the page: {url}\")\n",
    "        except TypeError as e:\n",
    "            print(f\"An error occurred: {e}\")\n",
    "        except requests.exceptions.RequestException as e:\n",
    "            print(f\"Error fetching the page {url}: {e}\")\n",
    "        return data"
   ]
  },
  {
   "cell_type": "code",
   "execution_count": 44,
   "id": "1834f7a2",
   "metadata": {},
   "outputs": [
    {
     "name": "stdout",
     "output_type": "stream",
     "text": [
      "An error occurred: 'NoneType' object is not iterable\n",
      "Error fetching the page https://olympics.com/en/sports/equestrian-dressage: 510 Server Error: Unknown for url: https://olympics.com/courtesy/error/500.html\n",
      "An error occurred: 'NoneType' object is not iterable\n",
      "Error fetching the page https://olympics.com/en/sports/baseball/softball: 404 Client Error: Not Found for url: https://olympics.com/courtesy/error/404.html\n",
      "Error fetching the page https://olympics.com/en/sports/equestrian--vaulting: 510 Server Error: Unknown for url: https://olympics.com/courtesy/error/500.html\n",
      "An error occurred: 'NoneType' object is not iterable\n",
      "Error fetching the page https://olympics.com/en/sports/equestrian-jumping: 510 Server Error: Unknown for url: https://olympics.com/courtesy/error/500.html\n",
      "Error fetching the page https://olympics.com/en/sports/gymnastics-rhythmic: 510 Server Error: Unknown for url: https://olympics.com/courtesy/error/500.html\n",
      "Error fetching the page https://olympics.com/en/sports/canoe-marathon: 510 Server Error: Unknown for url: https://olympics.com/courtesy/error/500.html\n",
      "Error fetching the page https://olympics.com/en/sports/trampoline: 510 Server Error: Unknown for url: https://olympics.com/courtesy/error/500.html\n",
      "An error occurred: 'NoneType' object is not iterable\n",
      "Error fetching the page https://olympics.com/en/sports/cycling-bmx: 510 Server Error: Unknown for url: https://olympics.com/courtesy/error/500.html\n",
      "Error fetching the page https://olympics.com/en/sports/synchronized-swimming: 510 Server Error: Unknown for url: https://olympics.com/courtesy/error/500.html\n",
      "An error occurred: 'NoneType' object is not iterable\n",
      "An error occurred: 'NoneType' object is not iterable\n",
      "An error occurred: 'NoneType' object is not iterable\n",
      "Error fetching the page https://olympics.com/en/sports/equestrian-eventing: 510 Server Error: Unknown for url: https://olympics.com/courtesy/error/500.html\n",
      "Error fetching the page https://olympics.com/en/sports/canoe-slalom: 510 Server Error: Unknown for url: https://olympics.com/courtesy/error/500.html\n",
      "An error occurred: 'NoneType' object is not iterable\n",
      "Error fetching the page https://olympics.com/en/sports/military-patrol: 510 Server Error: Unknown for url: https://olympics.com/courtesy/error/500.html\n",
      "Error fetching the page https://olympics.com/en/sports/short-track: 510 Server Error: Unknown for url: https://olympics.com/courtesy/error/500.html\n",
      "An error occurred: 'NoneType' object is not iterable\n",
      "Error fetching the page https://olympics.com/en/sports/canoe-sprint: 510 Server Error: Unknown for url: https://olympics.com/courtesy/error/500.html\n",
      "Error fetching the page https://olympics.com/en/sports/rugby: 510 Server Error: Unknown for url: https://olympics.com/courtesy/error/500.html\n",
      "Error fetching the page https://olympics.com/en/sports/gymnastics-artistic: 510 Server Error: Unknown for url: https://olympics.com/courtesy/error/500.html\n",
      "An error occurred: 'NoneType' object is not iterable\n",
      "Error fetching the page https://olympics.com/en/sports/baseball: 510 Server Error: Unknown for url: https://olympics.com/courtesy/error/500.html\n"
     ]
    }
   ],
   "source": [
    "for tag in sports_tag:\n",
    "    url = base_url+tag\n",
    "    scraped_data = scrape_website_with_delay(url)\n",
    "    info = f\"{tag} about is following :{scraped_data}\"\n",
    "    \n",
    "\n",
    "    with open('C:/Users/manik/Downloads/sports.txt', 'a+') as file:\n",
    "        try:\n",
    "            file.write(info)\n",
    "        except UnicodeEncodeError as e:\n",
    "            print(\"UnicodeEncodeError:\", e)\n",
    "    "
   ]
  },
  {
   "cell_type": "code",
   "execution_count": 45,
   "id": "9d802eb7",
   "metadata": {},
   "outputs": [],
   "source": [
    "other_tags = ['https://olympics.com/en/sports/equestrian/','https://olympics.com/en/sports/canoe-kayak-slalom/','https://olympics.com/en/sports/baseball-softball/','https://olympics.com/en/sports/rhythmic-gymnastics/','https://olympics.com/en/sports/trampoline-gymnastics/','https://olympics.com/en/sports/cycling-bmx-freestyle/','https://olympics.com/en/sports/short-track-speed-skating/','https://olympics.com/en/sports/rugby-sevens/','https://olympics.com/en/sports/artistic-gymnastics/']"
   ]
  },
  {
   "cell_type": "code",
   "execution_count": 48,
   "id": "12a2cc12",
   "metadata": {},
   "outputs": [],
   "source": [
    "for url in other_tags:\n",
    "    scraped_data = scrape_website_with_delay(url)\n",
    "    info = f'data is given as:{scraped_data}'\n",
    "    \n",
    "\n",
    "    with open('C:/Users/manik/Downloads/sports.txt', 'a+') as file:\n",
    "        try:\n",
    "            file.write(info)\n",
    "        except UnicodeEncodeError as e:\n",
    "            print(\"UnicodeEncodeError:\", e)\n",
    "    "
   ]
  },
  {
   "cell_type": "code",
   "execution_count": null,
   "id": "5dbd7a44",
   "metadata": {},
   "outputs": [],
   "source": []
  }
 ],
 "metadata": {
  "kernelspec": {
   "display_name": "Python 3 (ipykernel)",
   "language": "python",
   "name": "python3"
  },
  "language_info": {
   "codemirror_mode": {
    "name": "ipython",
    "version": 3
   },
   "file_extension": ".py",
   "mimetype": "text/x-python",
   "name": "python",
   "nbconvert_exporter": "python",
   "pygments_lexer": "ipython3",
   "version": "3.9.13"
  }
 },
 "nbformat": 4,
 "nbformat_minor": 5
}
